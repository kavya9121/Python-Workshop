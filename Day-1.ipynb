{
 "cells": [
  {
   "cell_type": "markdown",
   "metadata": {},
   "source": [
    "# bold\n",
    "**markdown**"
   ]
  },
  {
   "cell_type": "markdown",
   "metadata": {},
   "source": [
    "# italic\n",
    "*kavya*"
   ]
  },
  {
   "cell_type": "markdown",
   "metadata": {},
   "source": [
    "# both italic and bold\n",
    "***Kavya Reddy***\n"
   ]
  },
  {
   "cell_type": "code",
   "execution_count": null,
   "metadata": {},
   "outputs": [],
   "source": [
    "a=8\n",
    "b=99\n",
    "a+b"
   ]
  },
  {
   "cell_type": "markdown",
   "metadata": {},
   "source": [
    "# Bullet Points\n",
    "* Language\n",
    "- Webpages\n",
    "+ Documentation"
   ]
  },
  {
   "cell_type": "markdown",
   "metadata": {},
   "source": [
    "* Languages\n",
    "   - clang\n",
    "   - python\n",
    "   "
   ]
  },
  {
   "cell_type": "markdown",
   "metadata": {},
   "source": [
    "- Wedpages\n",
    "    - html\n",
    "    - css\n",
    "\n",
    "    "
   ]
  },
  {
   "cell_type": "markdown",
   "metadata": {},
   "source": [
    "+ Documentation\n",
    "  + ms word\n",
    "  + markdowm\n",
    "  + technical"
   ]
  },
  {
   "cell_type": "markdown",
   "metadata": {},
   "source": [
    "welcome to` python` programming"
   ]
  },
  {
   "cell_type": "markdown",
   "metadata": {},
   "source": [
    "> welcome python"
   ]
  },
  {
   "cell_type": "markdown",
   "metadata": {},
   "source": [
    "[pacecollege](http://pace.ac.in)"
   ]
  },
  {
   "cell_type": "markdown",
   "metadata": {},
   "source": [
    "# Introduction to python\n",
    "# History of python\n",
    "# Features to python\n",
    "# Keywords or Reserved words in python\n",
    "# Operators in python"
   ]
  },
  {
   "cell_type": "markdown",
   "metadata": {},
   "source": [
    "# Introduction to Python\n",
    "#### In Python We have 5 different ways\n",
    "   + HighLevel Language\n",
    "   + Object oriented Programming(oops)\n",
    "   + interpreted\n",
    "   + DynamicProgramming\n",
    "   + Multilevel Programming\n",
    "   \n",
    "   \n",
    "   \n",
    "  # History of Python\n",
    "   \n",
    "  ## Monty `Python` fly circus\n",
    "  + In 1989 started Implementation of Python with version 0.9\n",
    "  + In 1991 Implemented 0.9 version\n",
    "  + In 1991 implemented 1.0 version with features of lambda,map,filter,reduce\n",
    "  + In 2000 Implemented 2.0 version with features of datastructures Like List,Tuple,Dictionary,Sets,..etc\n",
    "  + In 2008 Republised 3.0 version with features large no of libraries,grabagecollection and fastworking Updating\n",
    "  \n",
    "  \n",
    "  \n",
    "  # Features of Python\n",
    "   + Easy to Learn & Easy to Write\n",
    "   + Crossplatform\n",
    "   + Portable\n",
    "   + Scalable\n",
    "   + Scripting\n",
    "  "
   ]
  },
  {
   "cell_type": "code",
   "execution_count": 1,
   "metadata": {},
   "outputs": [
    {
     "data": {
      "text/plain": [
       "30"
      ]
     },
     "execution_count": 1,
     "metadata": {},
     "output_type": "execute_result"
    }
   ],
   "source": [
    "a=10\n",
    "b=20\n",
    "a+b"
   ]
  },
  {
   "cell_type": "code",
   "execution_count": 2,
   "metadata": {},
   "outputs": [
    {
     "data": {
      "text/plain": [
       "str"
      ]
     },
     "execution_count": 2,
     "metadata": {},
     "output_type": "execute_result"
    }
   ],
   "source": [
    "a=\"kavya\"\n",
    "type(a)"
   ]
  },
  {
   "cell_type": "code",
   "execution_count": 3,
   "metadata": {},
   "outputs": [
    {
     "data": {
      "text/plain": [
       "'kavyareddy'"
      ]
     },
     "execution_count": 3,
     "metadata": {},
     "output_type": "execute_result"
    }
   ],
   "source": [
    "a=\"kavya\"\n",
    "b=\"reddy\"\n",
    "a+b"
   ]
  },
  {
   "cell_type": "code",
   "execution_count": 4,
   "metadata": {},
   "outputs": [
    {
     "data": {
      "text/plain": [
       "['False',\n",
       " 'None',\n",
       " 'True',\n",
       " 'and',\n",
       " 'as',\n",
       " 'assert',\n",
       " 'async',\n",
       " 'await',\n",
       " 'break',\n",
       " 'class',\n",
       " 'continue',\n",
       " 'def',\n",
       " 'del',\n",
       " 'elif',\n",
       " 'else',\n",
       " 'except',\n",
       " 'finally',\n",
       " 'for',\n",
       " 'from',\n",
       " 'global',\n",
       " 'if',\n",
       " 'import',\n",
       " 'in',\n",
       " 'is',\n",
       " 'lambda',\n",
       " 'nonlocal',\n",
       " 'not',\n",
       " 'or',\n",
       " 'pass',\n",
       " 'raise',\n",
       " 'return',\n",
       " 'try',\n",
       " 'while',\n",
       " 'with',\n",
       " 'yield']"
      ]
     },
     "execution_count": 4,
     "metadata": {},
     "output_type": "execute_result"
    }
   ],
   "source": [
    "# Keywords or Reservedwords in python\n",
    "import keyword\n",
    "dir(keyword)\n",
    "keyword.kwlist"
   ]
  },
  {
   "cell_type": "code",
   "execution_count": null,
   "metadata": {},
   "outputs": [
    {
     "name": "stdout",
     "output_type": "stream",
     "text": [
      "\n",
      "Welcome to Python 3.8's help utility!\n",
      "\n",
      "If this is your first time using Python, you should definitely check out\n",
      "the tutorial on the Internet at https://docs.python.org/3.8/tutorial/.\n",
      "\n",
      "Enter the name of any module, keyword, or topic to get help on writing\n",
      "Python programs and using Python modules.  To quit this help utility and\n",
      "return to the interpreter, just type \"quit\".\n",
      "\n",
      "To get a list of available modules, keywords, symbols, or topics, type\n",
      "\"modules\", \"keywords\", \"symbols\", or \"topics\".  Each module also comes\n",
      "with a one-line summary of what it does; to list the modules whose name\n",
      "or summary contain a given string such as \"spam\", type \"modules spam\".\n",
      "\n"
     ]
    }
   ],
   "source": [
    "help()"
   ]
  },
  {
   "cell_type": "markdown",
   "metadata": {},
   "source": [
    "# operators\n",
    "+ Arthematic operators(+,-,*,/,%,**,//)\n",
    "+ relational or(>,<,<=,>=,==,!=)\n",
    "+ Assignment operatiors(+=,-=,*=,/=,**=,//=)\n",
    "+ Logical operators(and,or,not)\n",
    "+ Bitwise operators(&,|,^,>>,<<)\n",
    "+ Membership operators(in,not in)\n",
    "+ Identity operators(is,is not)\n",
    "\n",
    "\n",
    "\n"
   ]
  },
  {
   "cell_type": "code",
   "execution_count": null,
   "metadata": {},
   "outputs": [],
   "source": [
    "a=10\n",
    "b=20\n",
    "print(a+b)\n",
    "print(a-b)\n",
    "print(a*b)\n",
    "print(a/b)\n",
    "print(a%b)\n",
    "print(a**b)\n",
    "print(pow(10,20))\n",
    "print(a//b)"
   ]
  },
  {
   "cell_type": "code",
   "execution_count": 4,
   "metadata": {},
   "outputs": [
    {
     "name": "stdout",
     "output_type": "stream",
     "text": [
      "True\n",
      "False\n",
      "False\n"
     ]
    }
   ],
   "source": [
    "# Relation operators\n",
    "\n",
    "x=100\n",
    "y=90\n",
    "print(x>y)\n",
    "print(x<y)\n",
    "print(x==y)\n",
    "print(x!=y)"
   ]
  },
  {
   "cell_type": "code",
   "execution_count": 7,
   "metadata": {},
   "outputs": [
    {
     "name": "stdout",
     "output_type": "stream",
     "text": [
      "1423828.0\n"
     ]
    }
   ],
   "source": [
    "# Assignment operators\n",
    "p=10\n",
    "p+=40\n",
    "p-=20\n",
    "p*=2\n",
    "p/=4\n",
    "p**=6\n",
    "p//=8\n",
    "print(p)"
   ]
  },
  {
   "cell_type": "code",
   "execution_count": 8,
   "metadata": {},
   "outputs": [
    {
     "name": "stdout",
     "output_type": "stream",
     "text": [
      "False\n",
      "False\n",
      "False\n",
      "True\n"
     ]
    }
   ],
   "source": [
    "# Logical operator\n",
    "# and\n",
    "print(False and False)\n",
    "print(False and True)\n",
    "print(True and False)\n",
    "print(True and True)"
   ]
  },
  {
   "cell_type": "code",
   "execution_count": 10,
   "metadata": {},
   "outputs": [
    {
     "name": "stdout",
     "output_type": "stream",
     "text": [
      "False\n",
      "True\n",
      "True\n",
      "True\n"
     ]
    }
   ],
   "source": [
    "# or\n",
    "print(False or False)\n",
    "print(False or True)\n",
    "print(True or False)\n",
    "print(True or True)"
   ]
  },
  {
   "cell_type": "code",
   "execution_count": 12,
   "metadata": {},
   "outputs": [
    {
     "name": "stdout",
     "output_type": "stream",
     "text": [
      "True\n",
      "False\n",
      "False\n",
      "False\n"
     ]
    }
   ],
   "source": [
    "# not\n",
    "print(not(False or False))\n",
    "print(not(False or True))\n",
    "print(not(True or False))\n",
    "print(not(True or True))"
   ]
  },
  {
   "cell_type": "code",
   "execution_count": 13,
   "metadata": {},
   "outputs": [
    {
     "name": "stdout",
     "output_type": "stream",
     "text": [
      "True\n",
      "True\n",
      "True\n",
      "False\n"
     ]
    }
   ],
   "source": [
    "# not\n",
    "print(not(False and False))\n",
    "print(not(False and True))\n",
    "print(not(True and False))\n",
    "print(not(True and True))"
   ]
  },
  {
   "cell_type": "code",
   "execution_count": 15,
   "metadata": {},
   "outputs": [
    {
     "name": "stdout",
     "output_type": "stream",
     "text": [
      "True\n",
      "True\n",
      "False\n",
      "False\n",
      "True\n",
      "False\n"
     ]
    }
   ],
   "source": [
    "print(10>5 and 20>8)\n",
    "print(108<101 or 99>50)\n",
    "print(50>55 and 45<100)\n",
    "print(5==5 and 5!=5)\n",
    "print(5==5 or 5!=5)\n",
    "print(not(10==10 and 50!=49))"
   ]
  },
  {
   "cell_type": "code",
   "execution_count": 16,
   "metadata": {},
   "outputs": [
    {
     "data": {
      "text/plain": [
       "'0b10'"
      ]
     },
     "execution_count": 16,
     "metadata": {},
     "output_type": "execute_result"
    }
   ],
   "source": [
    "# Bitewise operator\n",
    "2&2\n",
    "bin(2)\n"
   ]
  },
  {
   "cell_type": "code",
   "execution_count": 17,
   "metadata": {},
   "outputs": [
    {
     "name": "stdout",
     "output_type": "stream",
     "text": [
      "2\n",
      "15\n",
      "1\n"
     ]
    }
   ],
   "source": [
    "# Bitewise operator\n",
    "print(2&2)\n",
    "print(10|5)\n",
    "print(5^4)"
   ]
  },
  {
   "cell_type": "code",
   "execution_count": 18,
   "metadata": {},
   "outputs": [
    {
     "data": {
      "text/plain": [
       "'a'"
      ]
     },
     "execution_count": 18,
     "metadata": {},
     "output_type": "execute_result"
    }
   ],
   "source": [
    "ord('a')\n",
    "chr(97)"
   ]
  },
  {
   "cell_type": "code",
   "execution_count": 19,
   "metadata": {},
   "outputs": [
    {
     "name": "stdout",
     "output_type": "stream",
     "text": [
      "True\n",
      "True\n"
     ]
    }
   ],
   "source": [
    "# Membership Operator\n",
    "a=\"Welcome to Python workshop\"\n",
    "print('to' in a)\n",
    "print('Hello' not in a)"
   ]
  },
  {
   "cell_type": "code",
   "execution_count": 21,
   "metadata": {},
   "outputs": [
    {
     "name": "stdout",
     "output_type": "stream",
     "text": [
      "False\n",
      "True\n"
     ]
    }
   ],
   "source": [
    "# Identity operators\n",
    "x=100\n",
    "y=1000\n",
    "print(x is y)\n",
    "print(x is not y)"
   ]
  },
  {
   "cell_type": "code",
   "execution_count": 22,
   "metadata": {},
   "outputs": [
    {
     "name": "stdout",
     "output_type": "stream",
     "text": [
      "10\n",
      "10\n",
      "10\n"
     ]
    }
   ],
   "source": [
    "a=b=c=10\n",
    "print(a)\n",
    "print(b)\n",
    "print(c)\n"
   ]
  },
  {
   "cell_type": "code",
   "execution_count": 25,
   "metadata": {
    "scrolled": true
   },
   "outputs": [
    {
     "name": "stdout",
     "output_type": "stream",
     "text": [
      "10\n",
      "20\n",
      "30\n"
     ]
    }
   ],
   "source": [
    "a,b,c=10,20,30\n",
    "print(a)\n",
    "print(b)\n",
    "print(c)"
   ]
  },
  {
   "cell_type": "code",
   "execution_count": 18,
   "metadata": {
    "scrolled": true
   },
   "outputs": [
    {
     "name": "stdout",
     "output_type": "stream",
     "text": [
      "Sum of 15 and 12 is 27\n",
      "The sum of given numbers is:  27\n",
      "The sum of input numbers is:  27\n",
      "Addition of two numbers is:  27\n"
     ]
    }
   ],
   "source": [
    "# Static variable\n",
    "num1 = 15\n",
    "num2 = 12\n",
    "sum = num1 + num2 \n",
    "print(\"Sum of {0} and {1} is {2}\" .format(num1, num2, sum)) \n",
    "print(\"The sum of given numbers is: \", sum)\n",
    "print(\"The sum of input numbers is: \", sum)\n",
    "print(\"Addition of two numbers is: \", num1+num2)"
   ]
  },
  {
   "cell_type": "code",
   "execution_count": 27,
   "metadata": {},
   "outputs": [
    {
     "name": "stdout",
     "output_type": "stream",
     "text": [
      "Enter the x value: 99\n",
      "Enter the y value: 78\n",
      "Addition 99 + 78 = 177\n"
     ]
    }
   ],
   "source": [
    "# Dynamic variables\n",
    "x=int(input(\"Enter the x value: \"))\n",
    "y=int(input(\"Enter the y value: \"))\n",
    "print(\"Addition %d + %d = %d\"%(x,y,x+y))\n"
   ]
  },
  {
   "cell_type": "code",
   "execution_count": 28,
   "metadata": {
    "scrolled": true
   },
   "outputs": [
    {
     "name": "stdout",
     "output_type": "stream",
     "text": [
      "Enter the a value: 23\n",
      "Enter the b value: 23\n",
      "Enter the c value: 23\n",
      "Enter the d value: 23\n",
      "Enter the e value: 23\n",
      "Final result is 115\n"
     ]
    }
   ],
   "source": [
    "# Expression\n",
    "\n",
    "a=int(input(\"Enter the a value: \"))\n",
    "b=int(input(\"Enter the b value: \"))\n",
    "c=int(input(\"Enter the c value: \"))\n",
    "d=int(input(\"Enter the d value: \"))\n",
    "e=int(input(\"Enter the e value: \"))\n",
    "result=a+b+c+d+e\n",
    "print(\"Final result is\", result)"
   ]
  },
  {
   "cell_type": "markdown",
   "metadata": {},
   "source": [
    "# Condition Statements\n",
    " + If \n",
    " + If-else \n",
    " + Elif \n",
    " + Nested if and if-else"
   ]
  },
  {
   "cell_type": "code",
   "execution_count": 32,
   "metadata": {},
   "outputs": [
    {
     "name": "stdout",
     "output_type": "stream",
     "text": [
      "Enter the value56\n",
      "56 is even number\n"
     ]
    }
   ],
   "source": [
    "n1=int(input(\"Enter the value\"))\n",
    "if n1%2==0:\n",
    "    print(n1,\"is even number\")\n",
    "else:\n",
    "    print(n1,\"is odd number\")"
   ]
  },
  {
   "cell_type": "code",
   "execution_count": 34,
   "metadata": {},
   "outputs": [
    {
     "name": "stdout",
     "output_type": "stream",
     "text": [
      "Enter the value21\n",
      "21 is odd number\n"
     ]
    }
   ],
   "source": [
    "a=int(input(\"Enter the value\"))\n",
    "if a%2!=0:\n",
    "    print(a,\"is odd number\")\n",
    "else:\n",
    "    print(a,\"is even number\")"
   ]
  },
  {
   "cell_type": "code",
   "execution_count": null,
   "metadata": {},
   "outputs": [],
   "source": [
    "    "
   ]
  }
 ],
 "metadata": {
  "kernelspec": {
   "display_name": "Python 3",
   "language": "python",
   "name": "python3"
  },
  "language_info": {
   "codemirror_mode": {
    "name": "ipython",
    "version": 3
   },
   "file_extension": ".py",
   "mimetype": "text/x-python",
   "name": "python",
   "nbconvert_exporter": "python",
   "pygments_lexer": "ipython3",
   "version": "3.8.5"
  }
 },
 "nbformat": 4,
 "nbformat_minor": 4
}
