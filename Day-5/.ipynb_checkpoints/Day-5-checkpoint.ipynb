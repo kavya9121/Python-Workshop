{
 "cells": [
  {
   "cell_type": "markdown",
   "metadata": {},
   "source": [
    "# Todays Concepts\n",
    "+ OOPs\n",
    "+ Regular Expression\n",
    "+ Files\n",
    "+ Matplolib"
   ]
  },
  {
   "cell_type": "code",
   "execution_count": 3,
   "metadata": {},
   "outputs": [],
   "source": [
    "# Object oriented programming\n",
    "# Object: Instance of class\n",
    "  # Its having a properie(var) and actions(methods)\n",
    "# class\n",
    "# Collection of variables and methods\n",
    "# syntax:\n"
   ]
  },
  {
   "cell_type": "code",
   "execution_count": 4,
   "metadata": {},
   "outputs": [],
   "source": [
    "class Student:\n",
    "    pass"
   ]
  },
  {
   "cell_type": "code",
   "execution_count": 5,
   "metadata": {},
   "outputs": [],
   "source": [
    "# To create a object\n",
    "# Syntax:\n",
    "# var = classname()\n",
    "s = Student()\n"
   ]
  },
  {
   "cell_type": "code",
   "execution_count": 16,
   "metadata": {},
   "outputs": [],
   "source": [
    "class Student:\n",
    "    x = 10\n",
    "    y = 20\n",
    "    def Display(self):\n",
    "        name = input('Enter name of the student: ')\n",
    "        print('Hello',name)\n"
   ]
  },
  {
   "cell_type": "code",
   "execution_count": 17,
   "metadata": {},
   "outputs": [
    {
     "name": "stdout",
     "output_type": "stream",
     "text": [
      "Enter name of the student: kavya\n",
      "Hello kavya\n"
     ]
    }
   ],
   "source": [
    "Student().x\n",
    "Student().y\n",
    "s = Student()\n",
    "s.x\n",
    "s.Display()"
   ]
  },
  {
   "cell_type": "code",
   "execution_count": 19,
   "metadata": {},
   "outputs": [],
   "source": [
    "# constructor:\n",
    "# Syntax:\n",
    "#__init__(self)\n",
    "    # Statements"
   ]
  },
  {
   "cell_type": "code",
   "execution_count": 29,
   "metadata": {},
   "outputs": [],
   "source": [
    "class Cse:\n",
    "    sections = 3\n",
    "    year = 2\n",
    "    def __init__(self):\n",
    "        print('This is Constructer')\n",
    "        self\n",
    "    def Details(self):\n",
    "        print('Hello {} year having {} sections'.format(Cse.year,Cse.sections))"
   ]
  },
  {
   "cell_type": "code",
   "execution_count": 31,
   "metadata": {},
   "outputs": [
    {
     "name": "stdout",
     "output_type": "stream",
     "text": [
      "This is Constructer\n",
      "Hello 2 year having 3 sections\n"
     ]
    }
   ],
   "source": [
    "c = Cse()\n",
    "c.Details()"
   ]
  },
  {
   "cell_type": "code",
   "execution_count": 37,
   "metadata": {},
   "outputs": [],
   "source": [
    "class Cse:\n",
    "    sections = 3\n",
    "    year = 2\n",
    "    def __init__(self,sections,year):\n",
    "        print('This is Constructer')\n",
    "        self.sections = sections\n",
    "        self.year = year\n",
    "    def Details(self):\n",
    "        print('Hello {} year having {} sections'.format(self.year,self.sections))"
   ]
  },
  {
   "cell_type": "code",
   "execution_count": 38,
   "metadata": {},
   "outputs": [
    {
     "name": "stdout",
     "output_type": "stream",
     "text": [
      "This is Constructer\n"
     ]
    }
   ],
   "source": [
    "c = Cse(3,2)"
   ]
  },
  {
   "cell_type": "code",
   "execution_count": 43,
   "metadata": {},
   "outputs": [],
   "source": [
    "class Parent:\n",
    "    x = 10\n",
    "    y = 20\n",
    "    def M1(self):\n",
    "        print('parent method')\n",
    "class child:\n",
    "        a = 123\n",
    "        def __init__(self):\n",
    "            self.parent=Parent()\n",
    "        def M2(self):\n",
    "            print(self.parent.x)\n",
    "            print(self.parent.y)\n",
    "            print(child().a)\n",
    "            self.parent.M1()"
   ]
  },
  {
   "cell_type": "code",
   "execution_count": 45,
   "metadata": {},
   "outputs": [
    {
     "name": "stdout",
     "output_type": "stream",
     "text": [
      "10\n",
      "20\n",
      "123\n",
      "parent method\n"
     ]
    }
   ],
   "source": [
    "c = child()\n",
    "c.M2()"
   ]
  },
  {
   "cell_type": "code",
   "execution_count": 47,
   "metadata": {},
   "outputs": [
    {
     "name": "stdout",
     "output_type": "stream",
     "text": [
      "class A method\n"
     ]
    }
   ],
   "source": [
    "class A:\n",
    "    x = 20\n",
    "    y = 30\n",
    "    def m1(self):\n",
    "        print('class A method')\n",
    "class B(A):\n",
    "    z = 40\n",
    "    def m2(self):\n",
    "        print('class B method')\n",
    "obj=B()\n",
    "obj.m1()\n",
    "        "
   ]
  },
  {
   "cell_type": "code",
   "execution_count": 15,
   "metadata": {},
   "outputs": [],
   "source": [
    "# multiple level inheritance\n",
    "class Parent:\n",
    "    name = 'kavya'\n",
    "    company = 'CAMPGEMINI'\n",
    "    def m1(self):\n",
    "        print('Hello',Parent.name,'welcome to',Parent.company)\n",
    "class Child(Parent):\n",
    "    name1 = 'Kavya'\n",
    "    company = 'CAMPGEMINI'\n",
    "    def m2(self):\n",
    "        print('Hello',Child.name1,'Welcome to',Child.company)\n",
    "class SubChild(Child):\n",
    "    name2 = 'Anu'\n",
    "    company = 'CAMPGEMINI'\n",
    "    def m3(self):\n",
    "        print('Hello',SubChild.name2,'Welcome to',SubChild.company)"
   ]
  },
  {
   "cell_type": "code",
   "execution_count": 19,
   "metadata": {},
   "outputs": [
    {
     "name": "stdout",
     "output_type": "stream",
     "text": [
      "Hello kavya welcome to CAMPGEMINI\n",
      "Hello Kavya Welcome to CAMPGEMINI\n",
      "Hello Anu Welcome to CAMPGEMINI\n"
     ]
    }
   ],
   "source": [
    "s = SubChild()\n",
    "s.m1()\n",
    "s.m2()\n",
    "s.m3()"
   ]
  },
  {
   "cell_type": "code",
   "execution_count": null,
   "metadata": {},
   "outputs": [],
   "source": [
    "# Regulation Expression\n",
    "+ Regular Expressions using patterns\n",
    "+ by using regular expression in python we can one module i.e,\n",
    "+ Regular expressions syntax ---->modulename.methodname(pattern,value or variablenames)\n",
    "\n",
    "# Methods\n",
    "+ Search\n",
    "+ math\n",
    "+ findall\n",
    "\n",
    "# Patterns\n",
    "+ ^ --> matches the beginning of a line\n",
    "+ $ --> matches the end of the line\n",
    "+ . --> matches any character\n",
    "+ * --> Repeats a character zero or more items\n",
    "- + --> Repeats a character one or more times\n",
    "+ \\d--> Matches digits\n",
    "+ \\D--> Expect digits\n",
    "+ \\s--> matches whitespace\n",
    "+ \\S--> matches any non-whitespace character\n",
    "+ \\w--> without special characters\n",
    "+ \\W--> Matches special characters\n",
    "+ [a-z,A-Z]\n",
    "+ ( - indicates where string extraction is to start\n",
    "+ ) - indicates where string extraction is to end\n",
    "+ [a-z 0-9]--> The set of characters can include a range \n",
    "+ +?--> Repeats a character one or more time\n",
    "+ *?--> Repeats a character zero or more times\n",
    "[aeiou]--> Matches a single character in the listed set"
   ]
  },
  {
   "cell_type": "code",
   "execution_count": 20,
   "metadata": {},
   "outputs": [],
   "source": [
    "import re\n"
   ]
  },
  {
   "cell_type": "code",
   "execution_count": 21,
   "metadata": {},
   "outputs": [
    {
     "data": {
      "text/plain": [
       "<re.Match object; span=(0, 1), match='p'>"
      ]
     },
     "execution_count": 21,
     "metadata": {},
     "output_type": "execute_result"
    }
   ],
   "source": [
    "re.search('^p','python workshop')"
   ]
  },
  {
   "cell_type": "code",
   "execution_count": 22,
   "metadata": {},
   "outputs": [
    {
     "data": {
      "text/plain": [
       "<re.Match object; span=(13, 14), match='p'>"
      ]
     },
     "execution_count": 22,
     "metadata": {},
     "output_type": "execute_result"
    }
   ],
   "source": [
    "re.search('p$','pythonworkshop')"
   ]
  },
  {
   "cell_type": "code",
   "execution_count": 23,
   "metadata": {},
   "outputs": [
    {
     "data": {
      "text/plain": [
       "['2', '3', '0', '1', '2', '0', '2', '1']"
      ]
     },
     "execution_count": 23,
     "metadata": {},
     "output_type": "execute_result"
    }
   ],
   "source": [
    "re.findall('\\d','23-01-2021python')"
   ]
  },
  {
   "cell_type": "code",
   "execution_count": 25,
   "metadata": {},
   "outputs": [
    {
     "data": {
      "text/plain": [
       "['-', '-', 'p', 'y', 't', 'h', 'o', 'n']"
      ]
     },
     "execution_count": 25,
     "metadata": {},
     "output_type": "execute_result"
    }
   ],
   "source": [
    "re.findall('\\D','23-01-2021python')"
   ]
  },
  {
   "cell_type": "code",
   "execution_count": 31,
   "metadata": {},
   "outputs": [
    {
     "data": {
      "text/plain": [
       "['W',\n",
       " 'e',\n",
       " 'l',\n",
       " 'c',\n",
       " 'o',\n",
       " 'm',\n",
       " 'e',\n",
       " '@',\n",
       " 't',\n",
       " 'o',\n",
       " 'p',\n",
       " 'y',\n",
       " 't',\n",
       " 'h',\n",
       " 'o',\n",
       " 'n',\n",
       " '&',\n",
       " 'w',\n",
       " 'o',\n",
       " 'r',\n",
       " 'k',\n",
       " 's',\n",
       " 'h',\n",
       " 'o',\n",
       " 'p']"
      ]
     },
     "execution_count": 31,
     "metadata": {},
     "output_type": "execute_result"
    }
   ],
   "source": [
    "x = 'Welcome@ to python &workshop'\n",
    "re.findall('\\s',x)\n",
    "re.findall('\\S',x)"
   ]
  },
  {
   "cell_type": "code",
   "execution_count": 35,
   "metadata": {},
   "outputs": [
    {
     "data": {
      "text/plain": [
       "['s',\n",
       " 'a',\n",
       " 'i',\n",
       " '1',\n",
       " '2',\n",
       " '3',\n",
       " '_',\n",
       " 'p',\n",
       " 'g',\n",
       " 'm',\n",
       " 'a',\n",
       " 'i',\n",
       " 'l',\n",
       " 'c',\n",
       " 'o',\n",
       " 'm']"
      ]
     },
     "execution_count": 35,
     "metadata": {},
     "output_type": "execute_result"
    }
   ],
   "source": [
    "re.search('\\W','sai123_p@gmail.com')\n",
    "re.findall('\\W','sai123_p@gmail.com')\n",
    "re.findall('\\w','sai123_p@gmail.com')"
   ]
  },
  {
   "cell_type": "code",
   "execution_count": 44,
   "metadata": {},
   "outputs": [
    {
     "data": {
      "text/plain": [
       "<re.Match object; span=(0, 10), match='8919066478'>"
      ]
     },
     "execution_count": 44,
     "metadata": {},
     "output_type": "execute_result"
    }
   ],
   "source": [
    "# Mobile pattern\n",
    "re.search('^[6-9][0-9]{9}|[0][6-9][0-9]{9}|[+][9][1][6-9][0-9]{9}$','8919066478')\n"
   ]
  },
  {
   "cell_type": "code",
   "execution_count": null,
   "metadata": {},
   "outputs": [],
   "source": [
    "# mail pattern\n",
    "re.search('^[A-Za-z.][0-9]{1-15}[@][A-Za-z]{7}')"
   ]
  },
  {
   "cell_type": "code",
   "execution_count": null,
   "metadata": {},
   "outputs": [],
   "source": []
  }
 ],
 "metadata": {
  "kernelspec": {
   "display_name": "Python 3",
   "language": "python",
   "name": "python3"
  },
  "language_info": {
   "codemirror_mode": {
    "name": "ipython",
    "version": 3
   },
   "file_extension": ".py",
   "mimetype": "text/x-python",
   "name": "python",
   "nbconvert_exporter": "python",
   "pygments_lexer": "ipython3",
   "version": "3.8.5"
  }
 },
 "nbformat": 4,
 "nbformat_minor": 4
}
